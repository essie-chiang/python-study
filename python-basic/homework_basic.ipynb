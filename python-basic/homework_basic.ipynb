{
 "cells": [
  {
   "cell_type": "markdown",
   "metadata": {
    "collapsed": true
   },
   "source": [
    "### Python基础作业¶\n",
    "在自己的电脑上安装Anaconda，用conda create创建一个python 3.6版本的environment。今后我们的程序都在这个环境下执行\n",
    "上网查询，并且自己在jupyter notebook上实验，看看python 3.6当中有哪些常用的数据类型。\n",
    "\n",
    "\n",
    "\n",
    "\n",
    "\n"
   ]
  },
  {
   "cell_type": "markdown",
   "metadata": {},
   "source": [
    "用range创建一个list，命名为variable numbers，这个list从100到0，间隔为8。结果应该长下面这样: ([100, 92, 84, 76, 68, 60, 52, 44, 36, 28, 20, 12, 4])"
   ]
  },
  {
   "cell_type": "code",
   "execution_count": 19,
   "metadata": {},
   "outputs": [
    {
     "data": {
      "text/plain": [
       "[100, 92, 84, 76, 68, 60, 52, 44, 36, 28, 20, 12, 4]"
      ]
     },
     "execution_count": 19,
     "metadata": {},
     "output_type": "execute_result"
    }
   ],
   "source": [
    "numbers = range(100, 0, -8)\n",
    "numbers"
   ]
  },
  {
   "cell_type": "markdown",
   "metadata": {},
   "source": [
    "### 用if-elif-else语句判断某个年龄是未成年(<18)，成年(18-60)，还是老年(>=60)。"
   ]
  },
  {
   "cell_type": "code",
   "execution_count": 18,
   "metadata": {},
   "outputs": [
    {
     "name": "stdout",
     "output_type": "stream",
     "text": [
      "old man\n"
     ]
    }
   ],
   "source": [
    "a = 60\n",
    "if a < 18:\n",
    "    print \"not adult\"\n",
    "elif a < 60:\n",
    "    print \"adult\"\n",
    "else :\n",
    "    print \"old man\""
   ]
  },
  {
   "cell_type": "markdown",
   "metadata": {
    "collapsed": true
   },
   "source": [
    "### 用list comprehension把我们前面的numbers每个数字都变成它的平方"
   ]
  },
  {
   "cell_type": "code",
   "execution_count": 22,
   "metadata": {},
   "outputs": [
    {
     "data": {
      "text/plain": [
       "[10000, 8464, 7056, 5776, 4624, 3600, 2704, 1936, 1296, 784, 400, 144, 16]"
      ]
     },
     "execution_count": 22,
     "metadata": {},
     "output_type": "execute_result"
    }
   ],
   "source": [
    "for i in range(len(numbers)):\n",
    "    numbers[i] = numbers[i]*numbers[i]\n",
    "numbers"
   ]
  },
  {
   "cell_type": "markdown",
   "metadata": {
    "collapsed": true
   },
   "source": [
    "### 用for语句构建一个fibonacci数列，只需要前十个数字即可"
   ]
  },
  {
   "cell_type": "code",
   "execution_count": 32,
   "metadata": {},
   "outputs": [
    {
     "name": "stdout",
     "output_type": "stream",
     "text": [
      "1\n",
      "2\n",
      "3\n",
      "5\n",
      "8\n",
      "13\n",
      "21\n",
      "34\n",
      "55\n",
      "89\n"
     ]
    }
   ],
   "source": [
    "# 0, 1, 1, 2, 3, 5, 8...\n",
    "nfib = 10\n",
    "a, b = 0, 1\n",
    "for i in range(nfib):\n",
    "    c = a + b\n",
    "    print(c)\n",
    "    a, b = b, a+b"
   ]
  },
  {
   "cell_type": "markdown",
   "metadata": {},
   "source": [
    "### 随机写下六个人的名字，构成一个list。\n",
    "把这个list变成一个dict，按照顺序给这些名字编号，号码从1开始。key是名字，value是编号。"
   ]
  },
  {
   "cell_type": "code",
   "execution_count": 50,
   "metadata": {},
   "outputs": [
    {
     "data": {
      "text/plain": [
       "['Bill', 'Gnini', 'Harry', 'Hermine', 'Ron', 'Snape']"
      ]
     },
     "execution_count": 50,
     "metadata": {},
     "output_type": "execute_result"
    }
   ],
   "source": [
    "names = [\"Harry\", \"Hermine\", \"Ron\", \"Bill\", \"Gnini\", \"Snape\"]\n",
    "names.sort()\n",
    "names"
   ]
  },
  {
   "cell_type": "code",
   "execution_count": 35,
   "metadata": {},
   "outputs": [
    {
     "data": {
      "text/plain": [
       "<enumerate at 0x7f392c387780>"
      ]
     },
     "execution_count": 35,
     "metadata": {},
     "output_type": "execute_result"
    }
   ],
   "source": [
    "enumerate(names)"
   ]
  },
  {
   "cell_type": "code",
   "execution_count": 51,
   "metadata": {},
   "outputs": [
    {
     "data": {
      "text/plain": [
       "{0: 'Bill', 1: 'Gnini', 2: 'Harry', 3: 'Hermine', 4: 'Ron', 5: 'Snape'}"
      ]
     },
     "execution_count": 51,
     "metadata": {},
     "output_type": "execute_result"
    }
   ],
   "source": [
    "dict(enumerate(names))"
   ]
  },
  {
   "cell_type": "code",
   "execution_count": 52,
   "metadata": {},
   "outputs": [
    {
     "name": "stdout",
     "output_type": "stream",
     "text": [
      "(1, 'Bill')\n",
      "(2, 'Gnini')\n",
      "(3, 'Harry')\n",
      "(4, 'Hermine')\n",
      "(5, 'Ron')\n",
      "(6, 'Snape')\n"
     ]
    }
   ],
   "source": [
    "for n,v in (enumerate(names)):\n",
    "    print(n+1,v)"
   ]
  },
  {
   "cell_type": "code",
   "execution_count": 53,
   "metadata": {},
   "outputs": [
    {
     "data": {
      "text/plain": [
       "{1: 'Bill', 2: 'Gnini', 3: 'Harry', 4: 'Hermine', 5: 'Ron', 6: 'Snape'}"
      ]
     },
     "execution_count": 53,
     "metadata": {},
     "output_type": "execute_result"
    }
   ],
   "source": [
    "{k+1:v for k, v in enumerate(names)}"
   ]
  },
  {
   "cell_type": "code",
   "execution_count": 54,
   "metadata": {},
   "outputs": [
    {
     "data": {
      "text/plain": [
       "{'Bill': 0, 'Gnini': 1, 'Harry': 2, 'Hermine': 3, 'Ron': 4, 'Snape': 5}"
      ]
     },
     "execution_count": 54,
     "metadata": {},
     "output_type": "execute_result"
    }
   ],
   "source": [
    "{v:k for k,v in enumerate(names)}"
   ]
  },
  {
   "cell_type": "code",
   "execution_count": null,
   "metadata": {
    "collapsed": true
   },
   "outputs": [],
   "source": []
  }
 ],
 "metadata": {
  "kernelspec": {
   "display_name": "Python 2",
   "language": "python",
   "name": "python2"
  },
  "language_info": {
   "codemirror_mode": {
    "name": "ipython",
    "version": 2
   },
   "file_extension": ".py",
   "mimetype": "text/x-python",
   "name": "python",
   "nbconvert_exporter": "python",
   "pygments_lexer": "ipython2",
   "version": "2.7.12"
  }
 },
 "nbformat": 4,
 "nbformat_minor": 2
}
