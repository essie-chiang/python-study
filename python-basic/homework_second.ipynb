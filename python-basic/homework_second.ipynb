{
 "cells": [
  {
   "cell_type": "markdown",
   "metadata": {},
   "source": [
    "### Very simple exercises"
   ]
  },
  {
   "cell_type": "markdown",
   "metadata": {},
   "source": [
    "1.Define a function max() that takes two numbers as arguments and returns the largest of them. Use the if-then-else construct available in Python. (It is true that Python has the max() function built in, but writing it yourself is nevertheless a good exercise )."
   ]
  },
  {
   "cell_type": "code",
   "execution_count": 3,
   "metadata": {},
   "outputs": [
    {
     "data": {
      "text/plain": [
       "2"
      ]
     },
     "execution_count": 3,
     "metadata": {},
     "output_type": "execute_result"
    }
   ],
   "source": [
    "def max(m, n):\n",
    "    if m >= n:\n",
    "        return m\n",
    "    else :\n",
    "        return n\n",
    "    \n",
    "a, b = 1,2\n",
    "max(a, b)"
   ]
  },
  {
   "cell_type": "markdown",
   "metadata": {},
   "source": [
    "2.Define a function max_of_three() that takes three numbers as arguments and returns the largest of them.\n",
    "*** No return vale of list's append function, not allowed to operate on the return value!"
   ]
  },
  {
   "cell_type": "code",
   "execution_count": 42,
   "metadata": {},
   "outputs": [
    {
     "data": {
      "text/plain": [
       "2"
      ]
     },
     "execution_count": 42,
     "metadata": {},
     "output_type": "execute_result"
    }
   ],
   "source": [
    "def max_of_three(m, n, p):\n",
    "    l = list()\n",
    "    l.append(m)\n",
    "    l.append(n)\n",
    "    l.append(p)\n",
    "    l.sort()\n",
    "    return l[1]\n",
    "\n",
    "a, b, c = 1, 2, 3\n",
    "max_of_three(a,b,c)"
   ]
  },
  {
   "cell_type": "markdown",
   "metadata": {},
   "source": [
    "3.Define a function sum() and a function multiply() that sums and multiplies (respectively) all the numbers in a list of numbers. For example, sum([1, 2, 3, 4]) should return 10, and multiply([1, 2, 3, 4]) should return 24."
   ]
  },
  {
   "cell_type": "code",
   "execution_count": 50,
   "metadata": {},
   "outputs": [
    {
     "data": {
      "text/plain": [
       "10"
      ]
     },
     "execution_count": 50,
     "metadata": {},
     "output_type": "execute_result"
    }
   ],
   "source": [
    "def sum(numbers):\n",
    "    collect = 0\n",
    "    for num in numbers:\n",
    "        collect += num\n",
    "    return collect\n",
    "\n",
    "\n",
    "\n",
    "sum([1,2,3,4])"
   ]
  },
  {
   "cell_type": "code",
   "execution_count": 51,
   "metadata": {},
   "outputs": [
    {
     "data": {
      "text/plain": [
       "24"
      ]
     },
     "execution_count": 51,
     "metadata": {},
     "output_type": "execute_result"
    }
   ],
   "source": [
    "def multip(numbers):\n",
    "    mul = 1\n",
    "    for num in numbers:\n",
    "        mul *= num\n",
    "    return mul\n",
    "multip([1,2,3,4])"
   ]
  },
  {
   "cell_type": "markdown",
   "metadata": {},
   "source": [
    "4.Define a function reverse() that computes the reversal of a string. For example, reverse( \"I am testing\" ) should return the string \"gnitset ma I\"."
   ]
  },
  {
   "cell_type": "code",
   "execution_count": 93,
   "metadata": {},
   "outputs": [
    {
     "data": {
      "text/plain": [
       "str"
      ]
     },
     "execution_count": 93,
     "metadata": {},
     "output_type": "execute_result"
    }
   ],
   "source": [
    "def reverse(string):\n",
    "    l = list(string)\n",
    "    l.reverse()\n",
    "    s = \"\".join(l)\n",
    "    return s\n",
    "\n",
    "def reverse_1(string):\n",
    "    r = reversed(string)\n",
    "    return r\n",
    "\n",
    "\n",
    "reversed(\"i am testing\")\n",
    "type(reverse(\"i am testing\"))"
   ]
  },
  {
   "cell_type": "markdown",
   "metadata": {},
   "source": [
    "5.Write a function is_member() that takes a value ( i.e. a number, string, etc ) x and a list of values a, and returns True if x is a member of a, False otherwise. (Note that this is exactly what the in operator does, but for the sake of the exercise you should pretend Python did not have this operator)."
   ]
  },
  {
   "cell_type": "code",
   "execution_count": 81,
   "metadata": {},
   "outputs": [
    {
     "data": {
      "text/plain": [
       "False"
      ]
     },
     "execution_count": 81,
     "metadata": {},
     "output_type": "execute_result"
    }
   ],
   "source": [
    "def is_member_for(x, a):\n",
    "    for i in a:\n",
    "        if x == i:\n",
    "            return True  \n",
    "    else :\n",
    "        return False\n",
    "\n",
    "x = \"t\"\n",
    "a = [1, 2, 3]\n",
    "is_member_for(x, a)"
   ]
  },
  {
   "cell_type": "markdown",
   "metadata": {},
   "source": [
    "6.Define a function overlapping() that takes two lists and returns True if they have at least one member in common, False otherwise. You may use your is_member() function, or the in operator, but for the sake of the exercise, you should (also) write it using two nested for-loops."
   ]
  },
  {
   "cell_type": "code",
   "execution_count": 85,
   "metadata": {},
   "outputs": [
    {
     "data": {
      "text/plain": [
       "False"
      ]
     },
     "execution_count": 85,
     "metadata": {},
     "output_type": "execute_result"
    }
   ],
   "source": [
    "def overlapping(lista, listb):\n",
    "    for i in lista:\n",
    "        if is_member_for(i, listb):\n",
    "            return True\n",
    "    else:\n",
    "        return False\n",
    "lista = [\"a\", \"b\", \"c\"]\n",
    "listb = [\"4\", \"3\", \"f\"]\n",
    "overlapping(lista, listb)"
   ]
  },
  {
   "cell_type": "markdown",
   "metadata": {},
   "source": [
    "7.Define a function generate_n_chars() that takes an integer n and a character c and returns a string, n characters long, consisting only of c:s. For example, generate_n_chars( 5,\"x\" ) should return the string \"xxxxx\". (Python is unusual in that you can actually write an expression 5 * \"x\" that will evaluate to \"xxxxx\". For the sake of the exercise you should ignore that the problem can be solved in this manner )."
   ]
  },
  {
   "cell_type": "code",
   "execution_count": 96,
   "metadata": {},
   "outputs": [
    {
     "data": {
      "text/plain": [
       "'xxxxx'"
      ]
     },
     "execution_count": 96,
     "metadata": {},
     "output_type": "execute_result"
    }
   ],
   "source": [
    "def generate_n_chars(n, c = \"x\"):\n",
    "    return c * n\n",
    "generate_n_chars(5)"
   ]
  },
  {
   "cell_type": "markdown",
   "metadata": {},
   "source": [
    "8.Define a procedure histogram() that takes a list of integers and prints a histogram to the screen. For example, histogram( [ 4, 9, 7 ] ) should print the following:\n",
    "    ****\n",
    "    *********\n",
    "    *******"
   ]
  },
  {
   "cell_type": "code",
   "execution_count": 100,
   "metadata": {},
   "outputs": [
    {
     "name": "stdout",
     "output_type": "stream",
     "text": [
      "****\n",
      "*********\n",
      "*******\n"
     ]
    }
   ],
   "source": [
    "def histogram(numbers):\n",
    "    for line in numbers:\n",
    "        print(\"*\"*line)\n",
    "\n",
    "histogram([4,9,7])"
   ]
  },
  {
   "cell_type": "markdown",
   "metadata": {},
   "source": [
    "9.The function max() from exercise 1) and the function max_of_three() from exercise 2) will only work for two and three numbers, respectively. But suppose we have a much larger number of numbers, or suppose we cannot tell in advance how many they are? Write a function max_in_list() that takes a list of numbers and returns the largest one."
   ]
  },
  {
   "cell_type": "code",
   "execution_count": 102,
   "metadata": {},
   "outputs": [
    {
     "data": {
      "text/plain": [
       "5"
      ]
     },
     "execution_count": 102,
     "metadata": {},
     "output_type": "execute_result"
    }
   ],
   "source": [
    "def max_in_list(l):\n",
    "    l.sort()\n",
    "    return l[-1]\n",
    "max_in_list([1,2,3,4,5,])"
   ]
  },
  {
   "cell_type": "markdown",
   "metadata": {},
   "source": [
    "10.Write a program that maps a list of words into a list of integers representing the lengths of the corresponding words."
   ]
  },
  {
   "cell_type": "code",
   "execution_count": 103,
   "metadata": {},
   "outputs": [
    {
     "data": {
      "text/plain": [
       "[5, 3, 8, 6]"
      ]
     },
     "execution_count": 103,
     "metadata": {},
     "output_type": "execute_result"
    }
   ],
   "source": [
    "def size_of(words):\n",
    "    l = list()\n",
    "    for word in words:\n",
    "        l.append(len(word))\n",
    "    return l\n",
    "size_of([\"Herry\", \"Ron\", \"vordmort\", \"Haiger\"])"
   ]
  },
  {
   "cell_type": "markdown",
   "metadata": {},
   "source": [
    "11.Write a function find_longest_word() that takes a list of words and returns the length of the longest one."
   ]
  },
  {
   "cell_type": "code",
   "execution_count": 104,
   "metadata": {},
   "outputs": [
    {
     "data": {
      "text/plain": [
       "8"
      ]
     },
     "execution_count": 104,
     "metadata": {},
     "output_type": "execute_result"
    }
   ],
   "source": [
    "def find_longest_word(words):\n",
    "    l = size_of(words)\n",
    "    l.sort()\n",
    "    return l[-1]\n",
    "find_longest_word([\"Herry\", \"Ron\", \"vordmort\", \"Haiger\"])"
   ]
  },
  {
   "cell_type": "markdown",
   "metadata": {
    "collapsed": true
   },
   "source": [
    "12.Write a function filter_long_words() that takes a list of words and an integer n and returns the list of words that are longer than n."
   ]
  },
  {
   "cell_type": "code",
   "execution_count": 108,
   "metadata": {},
   "outputs": [
    {
     "data": {
      "text/plain": [
       "['vordmort', 'Haiger']"
      ]
     },
     "execution_count": 108,
     "metadata": {},
     "output_type": "execute_result"
    }
   ],
   "source": [
    "def filter_long_words(words, n):\n",
    "    l = list()\n",
    "    for word in words:\n",
    "        if len(word) > n:\n",
    "            l.append(word)\n",
    "    return l\n",
    "filter_long_words([\"Herry\", \"Ron\", \"vordmort\", \"Haiger\"], 5)"
   ]
  },
  {
   "cell_type": "markdown",
   "metadata": {},
   "source": [
    "13.Write a function char_freq() that takes a string and builds a frequency listing of the characters contained in it. Represent the frequency listing as a Python dictionary. Try it with something like char_freq(\"abbabcbdbabdbdbabababcbcbab\")."
   ]
  },
  {
   "cell_type": "code",
   "execution_count": 133,
   "metadata": {},
   "outputs": [
    {
     "data": {
      "text/plain": [
       "{'a': 7, 'b': 14, 'c': 3, 'd': 3}"
      ]
     },
     "execution_count": 133,
     "metadata": {},
     "output_type": "execute_result"
    }
   ],
   "source": [
    "def char_freq(string):\n",
    "    dic = {}\n",
    "    for i in list(string):\n",
    "        if i not in dic.keys():\n",
    "            dic[i] = 1\n",
    "        else: \n",
    "            dic[i] += 1\n",
    "    return dic\n",
    "char_freq(\"abbabcbdbabdbdbabababcbcbab\")"
   ]
  },
  {
   "cell_type": "markdown",
   "metadata": {},
   "source": [
    "14.Define a simple \"spelling correction\" function correct() that takes a string and sees to it that 1) two or more occurrences of the space character is compressed into one, and 2) inserts an extra space after a period if the period is directly followed by a letter. E.g. correct(\"This   is  very funny  and    cool.Indeed!\") should return \"This is very funny and cool. Indeed!\" Tip: Use regular expressions!"
   ]
  },
  {
   "cell_type": "code",
   "execution_count": null,
   "metadata": {
    "collapsed": true
   },
   "outputs": [],
   "source": [
    "def correct(string):\n",
    "    "
   ]
  },
  {
   "cell_type": "markdown",
   "metadata": {},
   "source": [
    "15.Using the higher order function reduce(), write a function max_in_list() that takes a list of numbers and returns the largest one. Then ask yourself: why define and call a new function, when I can just as well call the reduce() function directly?"
   ]
  },
  {
   "cell_type": "code",
   "execution_count": 134,
   "metadata": {},
   "outputs": [
    {
     "data": {
      "text/plain": [
       "6"
      ]
     },
     "execution_count": 134,
     "metadata": {},
     "output_type": "execute_result"
    }
   ],
   "source": [
    "from functools import reduce\n",
    "def max_in_list(l):\n",
    "    return reduce(lambda x,y: max(x, y), l)\n",
    "\n",
    "max_in_list([1,2,3,4,5,6])"
   ]
  },
  {
   "cell_type": "markdown",
   "metadata": {},
   "source": [
    "16.Write a program that maps a list of words into a list of integers representing the lengths of the corresponding words. Write it in three different ways: 1) using a for-loop, 2) using the higher order function map(), and 3) using list comprehensions."
   ]
  },
  {
   "cell_type": "code",
   "execution_count": null,
   "metadata": {
    "collapsed": true
   },
   "outputs": [],
   "source": [
    "def list_for_len(words):\n",
    "\n"
   ]
  },
  {
   "cell_type": "markdown",
   "metadata": {},
   "source": [
    "### Iterable\n",
    "- below returned map is not seen inside value unless change to a list, reason below.\n",
    "- https://stackoverflow.com/questions/15015452/is-there-any-single-function-to-print-iterables-values"
   ]
  },
  {
   "cell_type": "code",
   "execution_count": 150,
   "metadata": {},
   "outputs": [
    {
     "name": "stdout",
     "output_type": "stream",
     "text": [
      "{'test': 4}\n",
      "{'aaa': 3}\n"
     ]
    },
    {
     "data": {
      "text/plain": [
       "[{'ttt': 3}, {'aaa': 3}, {'mmm': 3}]"
      ]
     },
     "execution_count": 150,
     "metadata": {},
     "output_type": "execute_result"
    }
   ],
   "source": [
    "def list_map_len(words):\n",
    "    return map(lambda x:{x:len(x)}, words)\n",
    "\n",
    "for i in list_map_len([\"test\", \"aaa\"]):\n",
    "    print(i)\n",
    "list(list_map_len([\"ttt\", \"aaa\", \"mmm\"]))"
   ]
  },
  {
   "cell_type": "code",
   "execution_count": null,
   "metadata": {
    "collapsed": true
   },
   "outputs": [],
   "source": [
    "def list_comp_len(words):"
   ]
  },
  {
   "cell_type": "markdown",
   "metadata": {},
   "source": [
    "## Somewhat harder exercises"
   ]
  },
  {
   "cell_type": "markdown",
   "metadata": {},
   "source": [
    "17.A sentence splitter is a program capable of splitting a text into sentences. The standard set of heuristics for sentence splitting includes (but isn't limited to) the following rules:\n",
    "\n",
    " Sentence boundaries occur at one of \".\" (periods), \"?\" or \"!\", except that\n",
    "\n",
    "  1. Periods followed by whitespace followed by a lower case letter are not sentence boundaries.\n",
    "  \n",
    "  2. Periods followed by a digit with no intervening whitespace are not sentence boundaries.\n",
    "  \n",
    "  3. Periods followed by whitespace and then an upper case letter, but preceded by any of a short list of titles are not sentence boundaries. Sample titles include Mr., Mrs., Dr., and so on.\n",
    "  \n",
    "  4. Periods internal to a sequence of letters with no adjacent whitespace are not sentence boundaries (for example, www.aptex.com, or e.g).\n",
    "  \n",
    "  5. Periods followed by certain kinds of punctuation (notably comma and more periods) are probably not sentence boundaries.\n",
    "  \n",
    "  6. Your task here is to write a program that given the name of a text file is able to write its content with each sentence on a separate line. Test your program with the following short text:\n",
    "  \n",
    "\n",
    "  ```\n",
    "    Mr. Smith bought cheapsite.com for 1.5 million dollars, i.e. he paid a lot for it. Did he mind? Adam Jones Jr. thinks he didn't. In any case, this isn't true... Well, with a probability of .9 it isn't.\n",
    "  ```\n",
    "  The result should be:\n",
    "  ```\n",
    "  Mr. Smith bought cheapsite.com for 1.5 million dollars, i.e. he paid a lot for it.\n",
    "  Did he mind?\n",
    "  Adam Jones Jr. thinks he didn't.\n",
    "  In any case, this isn't true...\n",
    "  Well, with a probability of .9 it isn't.\n",
    "  ```\n",
    "\n",
    "\n",
    "7.Your task in this exercise is as follows:\n",
    "\n",
    "  Generate a string with N opening brackets (\"[\") and N closing brackets (\"]\"), in some arbitrary order.\n",
    "  \n",
    "  Determine whether the generated string is balanced; that is, whether it consists entirely of pairs of opening/closing brackets (in that order), none of which mis-nest.\n",
    "  \n",
    "  Examples:\n",
    "\n",
    "  ```\n",
    "     []        OK   ][        NOT OK\n",
    "     [][]      OK   ][][      NOT OK\n",
    "     [[][]]    OK   []][[]    NOT OK\n",
    "  ```"
   ]
  },
  {
   "cell_type": "code",
   "execution_count": null,
   "metadata": {
    "collapsed": true
   },
   "outputs": [],
   "source": []
  }
 ],
 "metadata": {
  "kernelspec": {
   "display_name": "Python 3",
   "language": "python",
   "name": "python3"
  },
  "language_info": {
   "codemirror_mode": {
    "name": "ipython",
    "version": 3
   },
   "file_extension": ".py",
   "mimetype": "text/x-python",
   "name": "python",
   "nbconvert_exporter": "python",
   "pygments_lexer": "ipython3",
   "version": "3.6.1"
  }
 },
 "nbformat": 4,
 "nbformat_minor": 2
}
